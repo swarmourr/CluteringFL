{
 "cells": [
  {
   "cell_type": "code",
   "execution_count": 1,
   "metadata": {},
   "outputs": [],
   "source": [
    "import pandas as pd"
   ]
  },
  {
   "cell_type": "code",
   "execution_count": 2,
   "metadata": {},
   "outputs": [],
   "source": [
    "folder_root = \"/Users/admin/Desktop/myvenv/benchmark/results/\""
   ]
  },
  {
   "cell_type": "code",
   "execution_count": 19,
   "metadata": {},
   "outputs": [],
   "source": [
    "clustering = [\"baseline\"] # \"data clustering\" missing for now, future: also model clustering\n",
    "distribution = [\"iid\",\"shard\"]\n",
    "n_clients = [\"10\",\"20\"]"
   ]
  },
  {
   "cell_type": "code",
   "execution_count": 20,
   "metadata": {},
   "outputs": [
    {
     "data": {
      "text/plain": [
       "2"
      ]
     },
     "execution_count": 20,
     "metadata": {},
     "output_type": "execute_result"
    }
   ],
   "source": [
    "len(n_clients)"
   ]
  },
  {
   "cell_type": "code",
   "execution_count": 21,
   "metadata": {},
   "outputs": [
    {
     "name": "stdout",
     "output_type": "stream",
     "text": [
      "test\n",
      "test\n",
      "test\n",
      "test\n"
     ]
    },
    {
     "name": "stderr",
     "output_type": "stream",
     "text": [
      "/var/folders/1j/4t8zm9tj47vdc3j4ntfc4xtw0000gn/T/ipykernel_84324/3333487682.py:23: FutureWarning: The behavior of DataFrame concatenation with empty or all-NA entries is deprecated. In a future version, this will no longer exclude empty or all-NA columns when determining the result dtypes. To retain the old behavior, exclude the relevant entries before the concat operation.\n",
      "  final_df = pd.concat([final_df,df])\n"
     ]
    }
   ],
   "source": [
    "# Initiate empty dataframe\n",
    "final_df = pd.DataFrame(columns=[\"Round\",\"Partition ID\",\"Accuracy\",\"Loss\",\"Distribution Type\",\"Number of Clients\",\"Clustering Type\"])\n",
    "\n",
    "for clust in clustering:\n",
    "    for dist in distribution:\n",
    "        for number in n_clients:\n",
    "            print(\"test\")\n",
    "            df = pd.read_csv(folder_root+clust+\"/\"+dist+\"_\"+number+\"_clients/client_accuracies.csv\")\n",
    "\n",
    "            # Create a list for distribution type\n",
    "            distribution_type = [dist for d in range(len(df))]\n",
    "            # Create a list for number of clients\n",
    "            clients_amount = [number for n in range(len(df))]\n",
    "            # Create a list for clustering type\n",
    "            clustering_type = [clust for c in range(len(df))]\n",
    "\n",
    "            # Add lists to dataframe as further columns\n",
    "            df['Distribution Type'] = distribution_type\n",
    "            df['Number of Clients'] = clients_amount\n",
    "            df['Clustering Type'] = clustering_type\n",
    "\n",
    "            # Append dataframe to final dataframe\n",
    "            final_df = pd.concat([final_df,df])\n",
    "\n",
    "\n"
   ]
  },
  {
   "cell_type": "code",
   "execution_count": 23,
   "metadata": {},
   "outputs": [],
   "source": [
    "final_df.to_csv(\"baseline_results.csv\",index=False)"
   ]
  },
  {
   "cell_type": "code",
   "execution_count": 4,
   "metadata": {},
   "outputs": [
    {
     "data": {
      "text/html": [
       "<div>\n",
       "<style scoped>\n",
       "    .dataframe tbody tr th:only-of-type {\n",
       "        vertical-align: middle;\n",
       "    }\n",
       "\n",
       "    .dataframe tbody tr th {\n",
       "        vertical-align: top;\n",
       "    }\n",
       "\n",
       "    .dataframe thead th {\n",
       "        text-align: right;\n",
       "    }\n",
       "</style>\n",
       "<table border=\"1\" class=\"dataframe\">\n",
       "  <thead>\n",
       "    <tr style=\"text-align: right;\">\n",
       "      <th></th>\n",
       "      <th>Round</th>\n",
       "      <th>Partition ID</th>\n",
       "      <th>Accuracy</th>\n",
       "      <th>Loss</th>\n",
       "    </tr>\n",
       "  </thead>\n",
       "  <tbody>\n",
       "    <tr>\n",
       "      <th>0</th>\n",
       "      <td>1</td>\n",
       "      <td>2</td>\n",
       "      <td>0.968333</td>\n",
       "      <td>4.042044</td>\n",
       "    </tr>\n",
       "    <tr>\n",
       "      <th>1</th>\n",
       "      <td>1</td>\n",
       "      <td>3</td>\n",
       "      <td>0.964167</td>\n",
       "      <td>5.023772</td>\n",
       "    </tr>\n",
       "    <tr>\n",
       "      <th>2</th>\n",
       "      <td>1</td>\n",
       "      <td>7</td>\n",
       "      <td>0.951667</td>\n",
       "      <td>5.203059</td>\n",
       "    </tr>\n",
       "    <tr>\n",
       "      <th>3</th>\n",
       "      <td>1</td>\n",
       "      <td>6</td>\n",
       "      <td>0.958333</td>\n",
       "      <td>5.037689</td>\n",
       "    </tr>\n",
       "    <tr>\n",
       "      <th>4</th>\n",
       "      <td>1</td>\n",
       "      <td>0</td>\n",
       "      <td>0.965000</td>\n",
       "      <td>4.051360</td>\n",
       "    </tr>\n",
       "    <tr>\n",
       "      <th>...</th>\n",
       "      <td>...</td>\n",
       "      <td>...</td>\n",
       "      <td>...</td>\n",
       "      <td>...</td>\n",
       "    </tr>\n",
       "    <tr>\n",
       "      <th>95</th>\n",
       "      <td>10</td>\n",
       "      <td>5</td>\n",
       "      <td>0.992500</td>\n",
       "      <td>1.178569</td>\n",
       "    </tr>\n",
       "    <tr>\n",
       "      <th>96</th>\n",
       "      <td>10</td>\n",
       "      <td>6</td>\n",
       "      <td>0.985000</td>\n",
       "      <td>2.238166</td>\n",
       "    </tr>\n",
       "    <tr>\n",
       "      <th>97</th>\n",
       "      <td>10</td>\n",
       "      <td>9</td>\n",
       "      <td>0.990833</td>\n",
       "      <td>1.707170</td>\n",
       "    </tr>\n",
       "    <tr>\n",
       "      <th>98</th>\n",
       "      <td>10</td>\n",
       "      <td>1</td>\n",
       "      <td>0.985833</td>\n",
       "      <td>2.356956</td>\n",
       "    </tr>\n",
       "    <tr>\n",
       "      <th>99</th>\n",
       "      <td>10</td>\n",
       "      <td>7</td>\n",
       "      <td>0.989167</td>\n",
       "      <td>1.280815</td>\n",
       "    </tr>\n",
       "  </tbody>\n",
       "</table>\n",
       "<p>100 rows × 4 columns</p>\n",
       "</div>"
      ],
      "text/plain": [
       "    Round  Partition ID  Accuracy      Loss\n",
       "0       1             2  0.968333  4.042044\n",
       "1       1             3  0.964167  5.023772\n",
       "2       1             7  0.951667  5.203059\n",
       "3       1             6  0.958333  5.037689\n",
       "4       1             0  0.965000  4.051360\n",
       "..    ...           ...       ...       ...\n",
       "95     10             5  0.992500  1.178569\n",
       "96     10             6  0.985000  2.238166\n",
       "97     10             9  0.990833  1.707170\n",
       "98     10             1  0.985833  2.356956\n",
       "99     10             7  0.989167  1.280815\n",
       "\n",
       "[100 rows x 4 columns]"
      ]
     },
     "execution_count": 4,
     "metadata": {},
     "output_type": "execute_result"
    }
   ],
   "source": [
    "# For each unique combination of \"distribution type, number of clients and clustering type\", calculate the average accuracy and loss per round and plot it\n"
   ]
  },
  {
   "cell_type": "code",
   "execution_count": 26,
   "metadata": {},
   "outputs": [
    {
     "data": {
      "image/png": "[encoded data removed]",
      "text/plain": [
       "<Figure size 1200x600 with 1 Axes>"
      ]
     },
     "metadata": {},
     "output_type": "display_data"
    },
    {
     "data": {
      "image/png": "[encoded data removed]",
      "text/plain": [
       "<Figure size 1200x600 with 1 Axes>"
      ]
     },
     "metadata": {},
     "output_type": "display_data"
    }
   ],
   "source": [
    "import pandas as pd\n",
    "import matplotlib.pyplot as plt\n",
    "import numpy as np\n",
    "\n",
    "# Assuming your dataframe is already created as final_df\n",
    "# Group by the necessary columns and round, then calculate the mean and variance\n",
    "grouped_df = final_df.groupby(\n",
    "    [\"Round\", \"Distribution Type\", \"Number of Clients\", \"Clustering Type\"]\n",
    ").agg(\n",
    "    {\"Accuracy\": [\"mean\", \"var\"], \"Loss\": [\"mean\", \"var\"]}\n",
    ").reset_index()\n",
    "\n",
    "# Flatten the multi-index columns\n",
    "grouped_df.columns = ['Round', 'Distribution Type', 'Number of Clients', 'Clustering Type', 'Accuracy_Mean', 'Accuracy_Var', 'Loss_Mean', 'Loss_Var']\n",
    "\n",
    "# Plot accuracy with variance for all combinations\n",
    "plt.figure(figsize=(12, 6))\n",
    "\n",
    "for (dist_type, n_clients, clust_type), group in grouped_df.groupby(\n",
    "    [\"Distribution Type\", \"Number of Clients\", \"Clustering Type\"]\n",
    "):\n",
    "    label = f\"Dist: {dist_type}, Clients: {n_clients}, Clust: {clust_type}\"\n",
    "    \n",
    "    # Plot the mean accuracy\n",
    "    plt.plot(group[\"Round\"], group[\"Accuracy_Mean\"], label=label)\n",
    "    \n",
    "    # Plot the variance as a shaded area\n",
    "    plt.fill_between(\n",
    "        group[\"Round\"],\n",
    "        group[\"Accuracy_Mean\"] - np.sqrt(group[\"Accuracy_Var\"]),\n",
    "        group[\"Accuracy_Mean\"] + np.sqrt(group[\"Accuracy_Var\"]),\n",
    "        alpha=0.2\n",
    "    )\n",
    "\n",
    "plt.title(\"Comparison of Average Accuracy with Variance Across Variations\")\n",
    "plt.xlabel(\"Round\")\n",
    "plt.ylabel(\"Average Accuracy\")\n",
    "plt.legend(loc=\"best\")\n",
    "plt.grid(True)\n",
    "plt.show()\n",
    "\n",
    "# Plot loss with variance for all combinations\n",
    "plt.figure(figsize=(12, 6))\n",
    "\n",
    "for (dist_type, n_clients, clust_type), group in grouped_df.groupby(\n",
    "    [\"Distribution Type\", \"Number of Clients\", \"Clustering Type\"]\n",
    "):\n",
    "    label = f\"Dist: {dist_type}, Clients: {n_clients}, Clust: {clust_type}\"\n",
    "    \n",
    "    # Plot the mean loss\n",
    "    plt.plot(group[\"Round\"], group[\"Loss_Mean\"], label=label)\n",
    "    \n",
    "    # Plot the variance as a shaded area\n",
    "    plt.fill_between(\n",
    "        group[\"Round\"],\n",
    "        group[\"Loss_Mean\"] - np.sqrt(group[\"Loss_Var\"]),\n",
    "        group[\"Loss_Mean\"] + np.sqrt(group[\"Loss_Var\"]),\n",
    "        alpha=0.2\n",
    "    )\n",
    "\n",
    "plt.title(\"Comparison of Average Loss with Variance Across Variations\")\n",
    "plt.xlabel(\"Round\")\n",
    "plt.ylabel(\"Average Loss\")\n",
    "plt.legend(loc=\"best\")\n",
    "plt.grid(True)\n",
    "plt.show()"
   ]
  },
  {
   "cell_type": "code",
   "execution_count": null,
   "metadata": {},
   "outputs": [],
   "source": []
  },
  {
   "cell_type": "code",
   "execution_count": null,
   "metadata": {},
   "outputs": [],
   "source": []
  },
  {
   "cell_type": "code",
   "execution_count": null,
   "metadata": {},
   "outputs": [],
   "source": []
  },
  {
   "cell_type": "code",
   "execution_count": 1,
   "metadata": {},
   "outputs": [
    {
     "name": "stderr",
     "output_type": "stream",
     "text": [
      "/Users/admin/Library/Python/3.9/lib/python/site-packages/urllib3/__init__.py:34: NotOpenSSLWarning: urllib3 v2 only supports OpenSSL 1.1.1+, currently the 'ssl' module is compiled with 'LibreSSL 2.8.3'. See: https://github.com/urllib3/urllib3/issues/3020\n",
      "  warnings.warn(\n",
      "/Users/admin/Library/Python/3.9/lib/python/site-packages/tqdm/auto.py:21: TqdmWarning: IProgress not found. Please update jupyter and ipywidgets. See https://ipywidgets.readthedocs.io/en/stable/user_install.html\n",
      "  from .autonotebook import tqdm as notebook_tqdm\n"
     ]
    }
   ],
   "source": [
    "import os\n",
    "import tensorflow as tf\n",
    "from flwr_datasets import FederatedDataset\n",
    "from flwr_datasets.partitioner import IidPartitioner, DirichletPartitioner, DistributionPartitioner, ExponentialPartitioner, InnerDirichletPartitioner, LinearPartitioner, NaturalIdPartitioner, PathologicalPartitioner, ShardPartitioner, SizePartitioner, SquarePartitioner\n",
    "from tqdm import tqdm\n",
    "import pandas as pd\n",
    "from torch.utils.data import DataLoader\n",
    "from torchvision.transforms import ToTensor\n",
    "\n",
    "fds = None\n",
    "\n",
    "transforms = ToTensor()\n",
    "def apply_transforms(batch):\n",
    "    batch[\"img\"] = [transforms(img) for img in batch[\"img\"]]\n",
    "    return batch\n",
    "\n",
    "def load_data(data_name, n_partitioner, chosen_partitioner, saving=False):\n",
    "    # Download and partition dataset\n",
    "    # Only initialize `FederatedDataset` once\n",
    "    # Possible partitioners: https://flower.ai/docs/datasets/ref-api/flwr_datasets.partitioner.html\n",
    "\n",
    "    # Make directories for storing datasets\n",
    "    if not os.path.exists(\"data\"):\n",
    "        os.mkdir(\"data\")\n",
    "\n",
    "    if not os.path.exists(f\"data/{data_name}\"):\n",
    "        os.mkdir(f\"data/{data_name}\")\n",
    "\n",
    "    if not os.path.exists(f\"data/{data_name}/{n_partitioner}_partitions\"):\n",
    "        os.mkdir(f\"data/{data_name}/{n_partitioner}_partitions\")\n",
    "\n",
    "    # Load data from flower\n",
    "    global fds\n",
    "    if fds is None:\n",
    "        fds = FederatedDataset(\n",
    "            dataset=data_name,\n",
    "            partitioners={\"train\": chosen_partitioner},\n",
    "            seed=42\n",
    "        )\n",
    "    \n",
    "    if saving:\n",
    "        print(\"Saving data as csv files\")\n",
    "        # Save each partition to a csv file\n",
    "        for partition in tqdm(range(n_partitioner)):\n",
    "            part = fds.load_partition(partition)\n",
    "            part.set_format(\"numpy\")\n",
    "            df = pd.DataFrame(part)\n",
    "            #df.to_csv(f\"data/{data_name}/{n_partitioner}_partitions/{partition}.csv\", index=False)\n",
    "            x = part\n",
    "    \n",
    "    else:\n",
    "        partitions_train = []\n",
    "        partitions_test = []\n",
    "        for partition in tqdm(range(n_partitioner)):\n",
    "            part = fds.load_partition(partition)\n",
    "            part.set_format(\"numpy\")\n",
    "            # Divide data on each node: 80% train, 20% test\n",
    "            part = partition.train_test_split(test_size=0.2)\n",
    "            x_train, y_train = partition[\"train\"][\"img\"] / 255.0, partition[\"train\"][\"label\"]\n",
    "            x_test, y_test = partition[\"test\"][\"img\"] / 255.0, partition[\"test\"][\"label\"]\n",
    "            list_of_partitions.append(part)\n",
    "\n",
    "    return df,x"
   ]
  },
  {
   "cell_type": "code",
   "execution_count": 3,
   "metadata": {},
   "outputs": [],
   "source": [
    "data_name = \"mnist\"\n",
    "n_partitioner = 10\n",
    "chosen_partitioner = IidPartitioner(10)"
   ]
  },
  {
   "cell_type": "code",
   "execution_count": 2,
   "metadata": {},
   "outputs": [
    {
     "name": "stderr",
     "output_type": "stream",
     "text": [
      "/Users/admin/Library/Python/3.9/lib/python/site-packages/urllib3/__init__.py:34: NotOpenSSLWarning: urllib3 v2 only supports OpenSSL 1.1.1+, currently the 'ssl' module is compiled with 'LibreSSL 2.8.3'. See: https://github.com/urllib3/urllib3/issues/3020\n",
      "  warnings.warn(\n",
      "/Users/admin/Library/Python/3.9/lib/python/site-packages/tqdm/auto.py:21: TqdmWarning: IProgress not found. Please update jupyter and ipywidgets. See https://ipywidgets.readthedocs.io/en/stable/user_install.html\n",
      "  from .autonotebook import tqdm as notebook_tqdm\n"
     ]
    }
   ],
   "source": [
    "import os\n",
    "import tensorflow as tf\n",
    "from flwr_datasets import FederatedDataset\n",
    "from flwr_datasets.partitioner import IidPartitioner, DirichletPartitioner, DistributionPartitioner, ExponentialPartitioner, InnerDirichletPartitioner, LinearPartitioner, NaturalIdPartitioner, PathologicalPartitioner, ShardPartitioner, SizePartitioner, SquarePartitioner\n",
    "from tqdm import tqdm\n",
    "import pandas as pd\n",
    "from torch.utils.data import DataLoader\n",
    "from torchvision.transforms import ToTensor\n",
    "\n",
    "fds = None\n",
    "\n",
    "def load_data(data_name, n_partitioner, chosen_partitioner, saving=False):\n",
    "    # Download and partition dataset\n",
    "    # Only initialize `FederatedDataset` once\n",
    "    # Possible partitioners: https://flower.ai/docs/datasets/ref-api/flwr_datasets.partitioner.html\n",
    "\n",
    "    transforms = ToTensor()\n",
    "    def apply_transforms(batch):\n",
    "        batch[\"img\"] = [transforms(img) for img in batch[\"image\"]]\n",
    "        return batch\n",
    "\n",
    "    # Make directories for storing datasets\n",
    "    if not os.path.exists(\"data\"):\n",
    "        os.mkdir(\"data\")\n",
    "\n",
    "    if not os.path.exists(f\"data/{data_name}\"):\n",
    "        os.mkdir(f\"data/{data_name}\")\n",
    "\n",
    "    if not os.path.exists(f\"data/{data_name}/{n_partitioner}_partitions\"):\n",
    "        os.mkdir(f\"data/{data_name}/{n_partitioner}_partitions\")\n",
    "\n",
    "    # Load data from flower\n",
    "    global fds\n",
    "    if fds is None:\n",
    "        fds = FederatedDataset(\n",
    "            dataset=data_name,\n",
    "            partitioners={\"train\": chosen_partitioner},\n",
    "            seed=42\n",
    "        )\n",
    "\n",
    "    if saving:\n",
    "        print(\"Saving data as csv files\")\n",
    "        # Save each partition to a csv file\n",
    "        for partition in tqdm(range(n_partitioner)):\n",
    "            part = fds.load_partition(partition)\n",
    "            part.set_format(\"numpy\")\n",
    "            df = pd.DataFrame(part)\n",
    "            #df.to_csv(f\"data/{data_name}/{n_partitioner}_partitions/{partition}.csv\", index=False)\n",
    "            x = part\n",
    "\n",
    "    else:\n",
    "        partitions_train = []\n",
    "        partitions_test = []\n",
    "        for partition in tqdm(range(n_partitioner)):\n",
    "            part = fds.load_partition(partition)\n",
    "            part.set_format(\"numpy\")\n",
    "            part_torch = part.with_transform(apply_transforms)\n",
    "            #part = part.train_test_split(test_size=0.2)\n",
    "            partition_train_test = part_torch.train_test_split(test_size=0.2, seed=42)\n",
    "            partition_train = partition_train_test[\"train\"]\n",
    "            partition_test = partition_train_test[\"test\"]\n",
    "            partitions_train.append(partition_train)\n",
    "            partitions_test.append(partition_test)\n",
    "\n",
    "    return partitions_train, partitions_test"
   ]
  },
  {
   "cell_type": "code",
   "execution_count": 8,
   "metadata": {},
   "outputs": [],
   "source": [
    "import torch\n",
    "import torch.nn as nn\n",
    "import torch.nn.functional as F\n",
    "from torch.utils.data import DataLoader\n",
    "from torchvision.transforms import Compose, Normalize, ToTensor\n",
    "from flwr_datasets import FederatedDataset\n",
    "from flwr_datasets.partitioner import IidPartitioner, DirichletPartitioner, DistributionPartitioner, ExponentialPartitioner, InnerDirichletPartitioner, LinearPartitioner, NaturalIdPartitioner, PathologicalPartitioner, ShardPartitioner, SizePartitioner, SquarePartitioner\n",
    "\n",
    "fds = None\n",
    "\n",
    "def load_data(partition_id: int, chosen_partitioner, test_size=0.2, saving=False):\n",
    "    \"\"\"Load data.\"\"\"\n",
    "    # Only initialize `FederatedDataset` once\n",
    "    global fds\n",
    "    if fds is None:\n",
    "        partitioner = chosen_partitioner\n",
    "        fds = FederatedDataset(\n",
    "            dataset=\"mnist\",\n",
    "            partitioners={\"train\": partitioner},\n",
    "        )\n",
    "    partition = fds.load_partition(partition_id)\n",
    "    # Divide data on each node: 80% train, 20% test\n",
    "    partition_train_test = partition.train_test_split(test_size, seed=42)\n",
    "    pytorch_transforms = Compose(\n",
    "        [ToTensor(), Normalize((0.5, 0.5, 0.5), (0.5, 0.5, 0.5))]\n",
    "    )\n",
    "\n",
    "    def apply_transforms(batch):\n",
    "        \"\"\"Apply transforms to the partition from FederatedDataset.\"\"\"\n",
    "        batch[\"img\"] = [pytorch_transforms(img) for img in batch[\"img\"]]\n",
    "        return batch\n",
    "\n",
    "    partition_train_test = partition_train_test.with_transform(apply_transforms)\n",
    "    trainloader = DataLoader(partition_train_test[\"train\"], batch_size=32, shuffle=True)\n",
    "    testloader = DataLoader(partition_train_test[\"test\"], batch_size=32)\n",
    "    return trainloader, testloader"
   ]
  },
  {
   "cell_type": "code",
   "execution_count": null,
   "metadata": {},
   "outputs": [],
   "source": [
    "fds = None\n"
   ]
  },
  {
   "cell_type": "code",
   "execution_count": 1,
   "metadata": {},
   "outputs": [
    {
     "name": "stderr",
     "output_type": "stream",
     "text": [
      "/Users/admin/Library/Python/3.9/lib/python/site-packages/tqdm/auto.py:21: TqdmWarning: IProgress not found. Please update jupyter and ipywidgets. See https://ipywidgets.readthedocs.io/en/stable/user_install.html\n",
      "  from .autonotebook import tqdm as notebook_tqdm\n",
      "/Users/admin/Library/Python/3.9/lib/python/site-packages/urllib3/__init__.py:34: NotOpenSSLWarning: urllib3 v2 only supports OpenSSL 1.1.1+, currently the 'ssl' module is compiled with 'LibreSSL 2.8.3'. See: https://github.com/urllib3/urllib3/issues/3020\n",
      "  warnings.warn(\n"
     ]
    }
   ],
   "source": [
    "import torch\n",
    "import torch.nn as nn\n",
    "import torch.nn.functional as F\n",
    "from torch.utils.data import DataLoader\n",
    "from torchvision.transforms import Compose, Normalize, ToTensor\n",
    "from flwr_datasets import FederatedDataset\n",
    "from flwr_datasets.partitioner import IidPartitioner, DirichletPartitioner, DistributionPartitioner, ExponentialPartitioner, InnerDirichletPartitioner, LinearPartitioner, NaturalIdPartitioner, PathologicalPartitioner, ShardPartitioner, SizePartitioner, SquarePartitioner\n",
    "\n",
    "fds = None\n",
    "\n",
    "def load_data(partition_id: int, num_partitions: int):\n",
    "    \"\"\"Load partition MNIST data.\"\"\"\n",
    "    # Only initialize `FederatedDataset` once\n",
    "    global fds\n",
    "    if fds is None:\n",
    "        fds = FederatedDataset(\n",
    "            dataset=\"mnist\",\n",
    "            partitioners={\"train\": IidPartitioner(num_partitions),\n",
    "            },\n",
    "            trust_remote_code=True\n",
    "        )\n",
    "    \n",
    "    def apply_transforms(batch):\n",
    "        \"\"\"Apply transforms to the partition from FederatedDataset.\"\"\"\n",
    "        batch[\"img\"] = [pytorch_transforms(img) for img in batch[\"img\"]]\n",
    "        return batch\n",
    "    \n",
    "    partition = fds.load_partition(partition_id)\n",
    "    partition = partition.rename_column(\"image\", \"img\")\n",
    "    # Divide data on each node: 80% train, 20% test\n",
    "    partition_train_test = partition.train_test_split(test_size=0.2, seed=42)\n",
    "    pytorch_transforms = Compose([ToTensor(), Normalize((0.1307,), (0.3081,))])\n",
    "    # pytorch_transforms = Compose([ToTensor(), Normalize((0.5, 0.5, 0.5), (0.5, 0.5, 0.5))]) # For CIFAR10\n",
    "\n",
    "    partition_train_test = partition_train_test.with_transform(apply_transforms)\n",
    "    trainloader = DataLoader(partition_train_test[\"train\"], batch_size=32)\n",
    "    testloader = DataLoader(partition_train_test[\"test\"], batch_size=32)\n",
    "\n",
    "    return trainloader, testloader"
   ]
  },
  {
   "cell_type": "code",
   "execution_count": 2,
   "metadata": {},
   "outputs": [],
   "source": [
    "trainloader, testloader = load_data(0, 10)"
   ]
  },
  {
   "cell_type": "code",
   "execution_count": 3,
   "metadata": {},
   "outputs": [
    {
     "data": {
      "text/plain": [
       "<torch.utils.data.dataloader.DataLoader at 0x175fe96d0>"
      ]
     },
     "execution_count": 3,
     "metadata": {},
     "output_type": "execute_result"
    }
   ],
   "source": [
    "trainloader"
   ]
  },
  {
   "cell_type": "code",
   "execution_count": 1,
   "metadata": {},
   "outputs": [
    {
     "name": "stderr",
     "output_type": "stream",
     "text": [
      "/Users/admin/Library/Python/3.9/lib/python/site-packages/tqdm/auto.py:21: TqdmWarning: IProgress not found. Please update jupyter and ipywidgets. See https://ipywidgets.readthedocs.io/en/stable/user_install.html\n",
      "  from .autonotebook import tqdm as notebook_tqdm\n",
      "/Users/admin/Library/Python/3.9/lib/python/site-packages/urllib3/__init__.py:34: NotOpenSSLWarning: urllib3 v2 only supports OpenSSL 1.1.1+, currently the 'ssl' module is compiled with 'LibreSSL 2.8.3'. See: https://github.com/urllib3/urllib3/issues/3020\n",
      "  warnings.warn(\n"
     ]
    }
   ],
   "source": [
    "import torch\n",
    "import torch.nn as nn\n",
    "import torch.nn.functional as F\n",
    "from torch.utils.data import DataLoader\n",
    "from torchvision.transforms import Compose, Normalize, ToTensor\n",
    "from flwr_datasets import FederatedDataset\n",
    "from flwr_datasets.partitioner import IidPartitioner, DirichletPartitioner, DistributionPartitioner, ExponentialPartitioner, InnerDirichletPartitioner, LinearPartitioner, NaturalIdPartitioner, PathologicalPartitioner, ShardPartitioner, SizePartitioner, SquarePartitioner\n",
    "\n",
    "fds = None\n",
    "\n",
    "def load_data(num_partitions: int, partitioner):\n",
    "    \"\"\"Load partition MNIST data.\"\"\"\n",
    "    # Only initialize `FederatedDataset` once\n",
    "    global fds\n",
    "    if fds is None:\n",
    "        fds = FederatedDataset(\n",
    "            dataset=\"mnist\",\n",
    "            partitioners={\"train\": partitioner,\n",
    "            },\n",
    "            trust_remote_code=True\n",
    "        )\n",
    "    \n",
    "    def apply_transforms(batch):\n",
    "        \"\"\"Apply transforms to the partition from FederatedDataset.\"\"\"\n",
    "        batch[\"img\"] = [pytorch_transforms(img) for img in batch[\"img\"]]\n",
    "        return batch\n",
    "    \n",
    "    trainloaders = []\n",
    "    testloaders = []\n",
    "\n",
    "    for partition_id in range(num_partitions):\n",
    "        partition = fds.load_partition(partition_id)\n",
    "        partition = partition.rename_column(\"image\", \"img\")\n",
    "        # Divide data on each node: 80% train, 20% test\n",
    "        partition_train_test = partition.train_test_split(test_size=0.2, seed=42)\n",
    "        pytorch_transforms = Compose([ToTensor(), Normalize((0.1307,), (0.3081,))])\n",
    "        # pytorch_transforms = Compose([ToTensor(), Normalize((0.5, 0.5, 0.5), (0.5, 0.5, 0.5))]) # For CIFAR10\n",
    "\n",
    "        partition_train_test = partition_train_test.with_transform(apply_transforms)\n",
    "        trainloader = DataLoader(partition_train_test[\"train\"], batch_size=32)\n",
    "        testloader = DataLoader(partition_train_test[\"test\"], batch_size=32)\n",
    "        testloaders.append(testloader)\n",
    "        trainloaders.append(trainloader)\n",
    "\n",
    "    return trainloaders, testloaders"
   ]
  },
  {
   "cell_type": "code",
   "execution_count": 11,
   "metadata": {},
   "outputs": [
    {
     "data": {
      "text/plain": [
       "True"
      ]
     },
     "execution_count": 11,
     "metadata": {},
     "output_type": "execute_result"
    }
   ],
   "source": [
    "fds = None\n",
    "trainloaders, testloaders = load_data(10, IidPartitioner(10))\n",
    "x = trainloaders[1].dataset[1][\"img\"].numpy().flatten()\n",
    "fds = None\n",
    "trainloaders, testloaders = load_data(10, IidPartitioner(10))\n",
    "y = trainloaders[1].dataset[1][\"img\"].numpy().flatten()\n",
    "# Check if both numpy arrays are equal\n",
    "np.array_equal(x, y)"
   ]
  },
  {
   "cell_type": "code",
   "execution_count": 5,
   "metadata": {},
   "outputs": [
    {
     "data": {
      "text/plain": [
       "True"
      ]
     },
     "execution_count": 5,
     "metadata": {},
     "output_type": "execute_result"
    }
   ],
   "source": [
    "import numpy as np\n"
   ]
  },
  {
   "cell_type": "code",
   "execution_count": 2,
   "metadata": {},
   "outputs": [
    {
     "ename": "NameError",
     "evalue": "name 'trainloaders' is not defined",
     "output_type": "error",
     "traceback": [
      "\u001b[0;31m---------------------------------------------------------------------------\u001b[0m",
      "\u001b[0;31mNameError\u001b[0m                                 Traceback (most recent call last)",
      "Cell \u001b[0;32mIn[2], line 1\u001b[0m\n\u001b[0;32m----> 1\u001b[0m x \u001b[38;5;241m=\u001b[39m \u001b[43mtrainloaders\u001b[49m[\u001b[38;5;241m1\u001b[39m]\u001b[38;5;241m.\u001b[39mdataset[\u001b[38;5;241m1\u001b[39m][\u001b[38;5;124m\"\u001b[39m\u001b[38;5;124mimg\u001b[39m\u001b[38;5;124m\"\u001b[39m]\u001b[38;5;241m.\u001b[39mnumpy()\u001b[38;5;241m.\u001b[39mflatten()\n",
      "\u001b[0;31mNameError\u001b[0m: name 'trainloaders' is not defined"
     ]
    }
   ],
   "source": [
    "x = trainloaders[1].dataset[1][\"img\"].numpy().flatten()"
   ]
  },
  {
   "cell_type": "code",
   "execution_count": 3,
   "metadata": {},
   "outputs": [],
   "source": [
    "x = trainloaders[1].dataset[1][\"img\"].numpy().flatten()"
   ]
  },
  {
   "cell_type": "code",
   "execution_count": 5,
   "metadata": {},
   "outputs": [],
   "source": [
    "y = trainloaders[1].dataset[1][\"img\"].numpy().flatten()"
   ]
  },
  {
   "cell_type": "code",
   "execution_count": 6,
   "metadata": {},
   "outputs": [],
   "source": [
    "import numpy as np"
   ]
  },
  {
   "cell_type": "code",
   "execution_count": 7,
   "metadata": {},
   "outputs": [
    {
     "data": {
      "text/plain": [
       "True"
      ]
     },
     "execution_count": 7,
     "metadata": {},
     "output_type": "execute_result"
    }
   ],
   "source": [
    "# Check if both numpy arrays are equal\n",
    "np.array_equal(x, y)"
   ]
  },
  {
   "cell_type": "code",
   "execution_count": 143,
   "metadata": {},
   "outputs": [
    {
     "data": {
      "text/plain": [
       "784"
      ]
     },
     "execution_count": 143,
     "metadata": {},
     "output_type": "execute_result"
    }
   ],
   "source": [
    "sum(x == y)"
   ]
  },
  {
   "cell_type": "code",
   "execution_count": 121,
   "metadata": {},
   "outputs": [],
   "source": [
    "for batch in trainloaders[0]:\n",
    "    images = batch[\"img\"]\n",
    "    labels = batch[\"label\"]"
   ]
  },
  {
   "cell_type": "code",
   "execution_count": 124,
   "metadata": {},
   "outputs": [
    {
     "data": {
      "text/plain": [
       "{'img': tensor([[[[-0.4242, -0.4242, -0.4242,  ..., -0.4242, -0.4242, -0.4242],\n",
       "           [-0.4242, -0.4242, -0.4242,  ..., -0.4242, -0.4242, -0.4242],\n",
       "           [-0.4242, -0.4242, -0.4242,  ..., -0.4242, -0.4242, -0.4242],\n",
       "           ...,\n",
       "           [-0.4242, -0.4242, -0.4242,  ..., -0.4242, -0.4242, -0.4242],\n",
       "           [-0.4242, -0.4242, -0.4242,  ..., -0.4242, -0.4242, -0.4242],\n",
       "           [-0.4242, -0.4242, -0.4242,  ..., -0.4242, -0.4242, -0.4242]]],\n",
       " \n",
       " \n",
       "         [[[-0.4242, -0.4242, -0.4242,  ..., -0.4242, -0.4242, -0.4242],\n",
       "           [-0.4242, -0.4242, -0.4242,  ..., -0.4242, -0.4242, -0.4242],\n",
       "           [-0.4242, -0.4242, -0.4242,  ..., -0.4242, -0.4242, -0.4242],\n",
       "           ...,\n",
       "           [-0.4242, -0.4242, -0.4242,  ..., -0.4242, -0.4242, -0.4242],\n",
       "           [-0.4242, -0.4242, -0.4242,  ..., -0.4242, -0.4242, -0.4242],\n",
       "           [-0.4242, -0.4242, -0.4242,  ..., -0.4242, -0.4242, -0.4242]]],\n",
       " \n",
       " \n",
       "         [[[-0.4242, -0.4242, -0.4242,  ..., -0.4242, -0.4242, -0.4242],\n",
       "           [-0.4242, -0.4242, -0.4242,  ..., -0.4242, -0.4242, -0.4242],\n",
       "           [-0.4242, -0.4242, -0.4242,  ..., -0.4242, -0.4242, -0.4242],\n",
       "           ...,\n",
       "           [-0.4242, -0.4242, -0.4242,  ..., -0.4242, -0.4242, -0.4242],\n",
       "           [-0.4242, -0.4242, -0.4242,  ..., -0.4242, -0.4242, -0.4242],\n",
       "           [-0.4242, -0.4242, -0.4242,  ..., -0.4242, -0.4242, -0.4242]]],\n",
       " \n",
       " \n",
       "         ...,\n",
       " \n",
       " \n",
       "         [[[-0.4242, -0.4242, -0.4242,  ..., -0.4242, -0.4242, -0.4242],\n",
       "           [-0.4242, -0.4242, -0.4242,  ..., -0.4242, -0.4242, -0.4242],\n",
       "           [-0.4242, -0.4242, -0.4242,  ..., -0.4242, -0.4242, -0.4242],\n",
       "           ...,\n",
       "           [-0.4242, -0.4242, -0.4242,  ..., -0.4242, -0.4242, -0.4242],\n",
       "           [-0.4242, -0.4242, -0.4242,  ..., -0.4242, -0.4242, -0.4242],\n",
       "           [-0.4242, -0.4242, -0.4242,  ..., -0.4242, -0.4242, -0.4242]]],\n",
       " \n",
       " \n",
       "         [[[-0.4242, -0.4242, -0.4242,  ..., -0.4242, -0.4242, -0.4242],\n",
       "           [-0.4242, -0.4242, -0.4242,  ..., -0.4242, -0.4242, -0.4242],\n",
       "           [-0.4242, -0.4242, -0.4242,  ..., -0.4242, -0.4242, -0.4242],\n",
       "           ...,\n",
       "           [-0.4242, -0.4242, -0.4242,  ..., -0.4242, -0.4242, -0.4242],\n",
       "           [-0.4242, -0.4242, -0.4242,  ..., -0.4242, -0.4242, -0.4242],\n",
       "           [-0.4242, -0.4242, -0.4242,  ..., -0.4242, -0.4242, -0.4242]]],\n",
       " \n",
       " \n",
       "         [[[-0.4242, -0.4242, -0.4242,  ..., -0.4242, -0.4242, -0.4242],\n",
       "           [-0.4242, -0.4242, -0.4242,  ..., -0.4242, -0.4242, -0.4242],\n",
       "           [-0.4242, -0.4242, -0.4242,  ..., -0.4242, -0.4242, -0.4242],\n",
       "           ...,\n",
       "           [-0.4242, -0.4242, -0.4242,  ..., -0.4242, -0.4242, -0.4242],\n",
       "           [-0.4242, -0.4242, -0.4242,  ..., -0.4242, -0.4242, -0.4242],\n",
       "           [-0.4242, -0.4242, -0.4242,  ..., -0.4242, -0.4242, -0.4242]]]]),\n",
       " 'label': tensor([1, 1, 5, 5, 1, 7, 4, 6, 9, 2, 0, 3, 3, 5, 0, 5, 0, 3, 4, 7, 2, 1, 0, 7,\n",
       "         4, 0, 3, 2, 6, 5, 5, 9])}"
      ]
     },
     "execution_count": 124,
     "metadata": {},
     "output_type": "execute_result"
    }
   ],
   "source": [
    "batch"
   ]
  },
  {
   "cell_type": "code",
   "execution_count": 106,
   "metadata": {},
   "outputs": [
    {
     "data": {
      "text/plain": [
       "tensor([1, 1, 5, 5, 1, 7, 4, 6, 9, 2, 0, 3, 3, 5, 0, 5, 0, 3, 4, 7, 2, 1, 0, 7,\n",
       "        4, 0, 3, 2, 6, 5, 5, 9])"
      ]
     },
     "execution_count": 106,
     "metadata": {},
     "output_type": "execute_result"
    }
   ],
   "source": [
    "labels"
   ]
  },
  {
   "cell_type": "code",
   "execution_count": 90,
   "metadata": {},
   "outputs": [
    {
     "ename": "TypeError",
     "evalue": "'DataLoader' object is not subscriptable",
     "output_type": "error",
     "traceback": [
      "\u001b[0;31m---------------------------------------------------------------------------\u001b[0m",
      "\u001b[0;31mTypeError\u001b[0m                                 Traceback (most recent call last)",
      "Cell \u001b[0;32mIn[90], line 1\u001b[0m\n\u001b[0;32m----> 1\u001b[0m images \u001b[38;5;241m=\u001b[39m \u001b[43mtrainloaders\u001b[49m\u001b[43m[\u001b[49m\u001b[38;5;241;43m0\u001b[39;49m\u001b[43m]\u001b[49m\u001b[43m[\u001b[49m\u001b[38;5;124;43m\"\u001b[39;49m\u001b[38;5;124;43mimg\u001b[39;49m\u001b[38;5;124;43m\"\u001b[39;49m\u001b[43m]\u001b[49m\n\u001b[1;32m      2\u001b[0m \u001b[38;5;66;03m#labels = batch[\"label\"]\u001b[39;00m\n",
      "\u001b[0;31mTypeError\u001b[0m: 'DataLoader' object is not subscriptable"
     ]
    }
   ],
   "source": [
    "images = trainloaders[0].dataset[\"img\"]\n",
    "#labels = batch[\"label\"]"
   ]
  },
  {
   "cell_type": "code",
   "execution_count": 89,
   "metadata": {},
   "outputs": [
    {
     "data": {
      "text/plain": [
       "MemoryMappedTable\n",
       "img: struct<bytes: binary, path: string>\n",
       "  child 0, bytes: binary\n",
       "  child 1, path: string\n",
       "label: int64\n",
       "----\n",
       "img: [\n",
       "  -- is_valid: all not null\n",
       "  -- child 0 type: binary\n",
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n",
       "  -- child 1 type: string\n",
       "[null,null,null,null,null,...,null,null,null,null,null],\n",
       "  -- is_valid: all not null\n",
       "  -- child 0 type: binary\n",
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n",
       "  -- child 1 type: string\n",
       "[null,null,null,null,null,...,null,null,null,null,null],\n",
       "...,\n",
       "  -- is_valid: all not null\n",
       "  -- child 0 type: binary\n",
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n",
       "  -- child 1 type: string\n",
       "[null,null,null,null,null,...,null,null,null,null,null],\n",
       "  -- is_valid: all not null\n",
       "  -- child 0 type: binary\n",
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n",
       "  -- child 1 type: string\n",
       "[null,null,null,null,null,...,null,null,null,null,null]]\n",
       "label: [[5,0,4,1,9,...,7,6,0,3,6],[0,7,1,1,4,...,0,5,5,2,0],...,[2,3,0,4,9,...,1,8,6,6,4],[6,3,5,7,2,...,8,3,5,6,8]]"
      ]
     },
     "execution_count": 89,
     "metadata": {},
     "output_type": "execute_result"
    }
   ],
   "source": [
    "trainloaders[0].dataset.data"
   ]
  },
  {
   "cell_type": "code",
   "execution_count": 78,
   "metadata": {},
   "outputs": [],
   "source": [
    "y = trainloaders[0].dataset[\"img\"]"
   ]
  },
  {
   "cell_type": "code",
   "execution_count": 71,
   "metadata": {},
   "outputs": [
    {
     "data": {
      "text/plain": [
       "<torch.utils.data.dataloader.DataLoader at 0x335876280>"
      ]
     },
     "execution_count": 71,
     "metadata": {},
     "output_type": "execute_result"
    }
   ],
   "source": [
    "y"
   ]
  },
  {
   "cell_type": "code",
   "execution_count": 79,
   "metadata": {},
   "outputs": [
    {
     "ename": "RuntimeError",
     "evalue": "Boolean value of Tensor with more than one value is ambiguous",
     "output_type": "error",
     "traceback": [
      "\u001b[0;31m---------------------------------------------------------------------------\u001b[0m",
      "\u001b[0;31mRuntimeError\u001b[0m                              Traceback (most recent call last)",
      "Cell \u001b[0;32mIn[79], line 1\u001b[0m\n\u001b[0;32m----> 1\u001b[0m \u001b[43mx\u001b[49m\u001b[38;5;241;43m==\u001b[39;49m\u001b[43my\u001b[49m\n",
      "\u001b[0;31mRuntimeError\u001b[0m: Boolean value of Tensor with more than one value is ambiguous"
     ]
    }
   ],
   "source": [
    "x==y"
   ]
  },
  {
   "cell_type": "code",
   "execution_count": 31,
   "metadata": {},
   "outputs": [
    {
     "data": {
      "text/plain": [
       "<torch.utils.data.dataloader.DataLoader at 0x3347ee100>"
      ]
     },
     "execution_count": 31,
     "metadata": {},
     "output_type": "execute_result"
    }
   ],
   "source": [
    "x"
   ]
  },
  {
   "cell_type": "code",
   "execution_count": 21,
   "metadata": {},
   "outputs": [
    {
     "data": {
      "text/plain": [
       "<torch.utils.data.dataloader.DataLoader at 0x3344f1f10>"
      ]
     },
     "execution_count": 21,
     "metadata": {},
     "output_type": "execute_result"
    }
   ],
   "source": [
    "y"
   ]
  },
  {
   "cell_type": "code",
   "execution_count": 30,
   "metadata": {},
   "outputs": [],
   "source": [
    "x = testloaders[0]"
   ]
  },
  {
   "cell_type": "code",
   "execution_count": 5,
   "metadata": {},
   "outputs": [
    {
     "data": {
      "text/plain": [
       "array([[[-0.42421296, -0.42421296, -0.42421296, -0.42421296,\n",
       "         -0.42421296, -0.42421296, -0.42421296, -0.42421296,\n",
       "         -0.42421296, -0.42421296, -0.42421296, -0.42421296,\n",
       "         -0.42421296, -0.42421296, -0.42421296, -0.42421296,\n",
       "         -0.42421296, -0.42421296, -0.42421296, -0.42421296,\n",
       "         -0.42421296, -0.42421296, -0.42421296, -0.42421296,\n",
       "         -0.42421296, -0.42421296, -0.42421296, -0.42421296],\n",
       "        [-0.42421296, -0.42421296, -0.42421296, -0.42421296,\n",
       "         -0.42421296, -0.42421296, -0.42421296, -0.42421296,\n",
       "         -0.42421296, -0.42421296, -0.42421296, -0.42421296,\n",
       "         -0.42421296, -0.42421296, -0.42421296, -0.42421296,\n",
       "         -0.42421296, -0.42421296, -0.42421296, -0.42421296,\n",
       "         -0.42421296, -0.42421296, -0.42421296, -0.42421296,\n",
       "         -0.42421296, -0.42421296, -0.42421296, -0.42421296],\n",
       "        [-0.42421296, -0.42421296, -0.42421296, -0.42421296,\n",
       "         -0.42421296, -0.42421296, -0.42421296, -0.42421296,\n",
       "         -0.42421296, -0.42421296, -0.42421296, -0.42421296,\n",
       "         -0.42421296, -0.42421296, -0.42421296, -0.42421296,\n",
       "         -0.42421296, -0.42421296, -0.42421296, -0.42421296,\n",
       "         -0.42421296, -0.42421296, -0.42421296, -0.42421296,\n",
       "         -0.42421296, -0.42421296, -0.42421296, -0.42421296],\n",
       "        [-0.42421296, -0.42421296, -0.42421296, -0.42421296,\n",
       "         -0.42421296, -0.42421296, -0.42421296, -0.42421296,\n",
       "         -0.42421296, -0.42421296, -0.42421296, -0.42421296,\n",
       "         -0.42421296, -0.42421296, -0.42421296, -0.42421296,\n",
       "         -0.42421296, -0.42421296, -0.42421296, -0.42421296,\n",
       "         -0.42421296, -0.42421296, -0.42421296, -0.42421296,\n",
       "         -0.42421296, -0.42421296, -0.42421296, -0.42421296],\n",
       "        [-0.42421296, -0.42421296, -0.42421296, -0.42421296,\n",
       "         -0.42421296, -0.42421296, -0.42421296, -0.42421296,\n",
       "         -0.42421296, -0.42421296, -0.42421296, -0.42421296,\n",
       "          1.1668162 ,  2.8214867 ,  2.1341622 , -0.05509418,\n",
       "         -0.42421296, -0.42421296, -0.42421296, -0.42421296,\n",
       "         -0.42421296, -0.42421296, -0.42421296, -0.42421296,\n",
       "         -0.42421296, -0.42421296, -0.42421296, -0.42421296],\n",
       "        [-0.42421296, -0.42421296, -0.42421296, -0.42421296,\n",
       "         -0.42421296, -0.42421296, -0.42421296, -0.42421296,\n",
       "         -0.42421296, -0.42421296, -0.42421296,  0.8486104 ,\n",
       "          2.7069325 ,  2.7960303 ,  2.732389  ,  0.54313284,\n",
       "         -0.42421296, -0.42421296, -0.42421296, -0.42421296,\n",
       "         -0.42421296, -0.42421296, -0.42421296, -0.42421296,\n",
       "         -0.42421296, -0.42421296, -0.42421296, -0.42421296],\n",
       "        [-0.42421296, -0.42421296, -0.42421296, -0.42421296,\n",
       "         -0.42421296, -0.42421296, -0.42421296, -0.42421296,\n",
       "         -0.42421296, -0.42421296, -0.15692005,  1.9559668 ,\n",
       "          2.7960303 ,  2.7960303 ,  0.8740668 , -0.42421296,\n",
       "         -0.42421296, -0.42421296, -0.42421296, -0.42421296,\n",
       "         -0.42421296, -0.42421296, -0.42421296, -0.42421296,\n",
       "         -0.42421296, -0.42421296, -0.42421296, -0.42421296],\n",
       "        [-0.42421296, -0.42421296, -0.42421296, -0.42421296,\n",
       "         -0.42421296, -0.42421296, -0.42421296, -0.42421296,\n",
       "         -0.42421296, -0.20783298,  1.8923256 ,  2.7960303 ,\n",
       "          2.681476  ,  1.0904468 , -0.3987565 , -0.42421296,\n",
       "         -0.42421296, -0.42421296, -0.42421296, -0.42421296,\n",
       "         -0.42421296, -0.42421296, -0.42421296, -0.42421296,\n",
       "         -0.42421296, -0.42421296, -0.42421296, -0.42421296],\n",
       "        [-0.42421296, -0.42421296, -0.42421296, -0.42421296,\n",
       "         -0.42421296, -0.42421296, -0.42421296, -0.42421296,\n",
       "         -0.42421296,  1.154088  ,  2.7960303 ,  2.7960303 ,\n",
       "          0.95043623, -0.42421296, -0.42421296, -0.42421296,\n",
       "         -0.42421296, -0.42421296, -0.42421296, -0.42421296,\n",
       "         -0.42421296, -0.42421296, -0.42421296, -0.42421296,\n",
       "         -0.42421296, -0.42421296, -0.42421296, -0.42421296],\n",
       "        [-0.42421296, -0.42421296, -0.42421296, -0.42421296,\n",
       "         -0.42421296, -0.42421296, -0.42421296, -0.42421296,\n",
       "          0.33948106,  2.5414655 ,  2.7960303 ,  2.452368  ,\n",
       "         -0.1823765 , -0.42421296, -0.42421296, -0.42421296,\n",
       "         -0.42421296, -0.42421296, -0.42421296, -0.42421296,\n",
       "         -0.42421296, -0.42421296, -0.42421296, -0.42421296,\n",
       "         -0.42421296, -0.42421296, -0.42421296, -0.42421296],\n",
       "        [-0.42421296, -0.42421296, -0.42421296, -0.42421296,\n",
       "         -0.42421296, -0.42421296, -0.42421296, -0.42421296,\n",
       "          2.083249  ,  2.7960303 ,  2.7960303 ,  1.0268056 ,\n",
       "         -0.42421296, -0.42421296, -0.42421296, -0.42421296,\n",
       "         -0.42421296, -0.42421296, -0.42421296, -0.42421296,\n",
       "         -0.42421296, -0.42421296, -0.42421296, -0.42421296,\n",
       "         -0.42421296, -0.42421296, -0.42421296, -0.42421296],\n",
       "        [-0.42421296, -0.42421296, -0.42421296, -0.42421296,\n",
       "         -0.42421296, -0.42421296, -0.42421296, -0.42421296,\n",
       "          2.083249  ,  2.7960303 ,  2.7960303 ,  1.0268056 ,\n",
       "         -0.42421296, -0.42421296, -0.42421296,  0.14855757,\n",
       "          0.41585052,  1.968695  ,  2.5032809 ,  2.1596186 ,\n",
       "         -0.01690946, -0.42421296, -0.42421296, -0.42421296,\n",
       "         -0.42421296, -0.42421296, -0.42421296, -0.42421296],\n",
       "        [-0.42421296, -0.42421296, -0.42421296, -0.42421296,\n",
       "         -0.42421296, -0.42421296, -0.42421296, -0.42421296,\n",
       "          2.083249  ,  2.7960303 ,  2.7960303 ,  1.0268056 ,\n",
       "          0.09764464,  1.5613916 ,  1.5613916 ,  2.401455  ,\n",
       "          2.7960303 ,  2.7960303 ,  2.7960303 ,  2.7960303 ,\n",
       "          1.1286315 , -0.42421296, -0.42421296, -0.42421296,\n",
       "         -0.42421296, -0.42421296, -0.42421296, -0.42421296],\n",
       "        [-0.42421296, -0.42421296, -0.42421296, -0.42421296,\n",
       "         -0.42421296, -0.42421296, -0.42421296, -0.42421296,\n",
       "          2.083249  ,  2.7960303 ,  2.7960303 ,  2.7451172 ,\n",
       "          2.732389  ,  2.7960303 ,  2.7960303 ,  2.7578456 ,\n",
       "          1.7523152 ,  1.7523152 ,  2.2232597 ,  2.7960303 ,\n",
       "          1.6632175 , -0.2842024 , -0.42421296, -0.42421296,\n",
       "         -0.42421296, -0.42421296, -0.42421296, -0.42421296],\n",
       "        [-0.42421296, -0.42421296, -0.42421296, -0.42421296,\n",
       "         -0.42421296, -0.42421296, -0.42421296, -0.42421296,\n",
       "          2.019608  ,  2.7960303 ,  2.7960303 ,  2.7960303 ,\n",
       "          2.7960303 ,  2.732389  ,  2.0068798 ,  0.5685893 ,\n",
       "         -0.42421296, -0.41148472,  1.103175  ,  2.7960303 ,\n",
       "          2.7451172 , -0.02963771, -0.42421296, -0.42421296,\n",
       "         -0.42421296, -0.42421296, -0.42421296, -0.42421296],\n",
       "        [-0.42421296, -0.42421296, -0.42421296, -0.42421296,\n",
       "         -0.42421296, -0.42421296, -0.42421296, -0.42421296,\n",
       "         -0.15692005,  1.5359352 ,  1.7777716 ,  2.7960303 ,\n",
       "          1.6504892 ,  0.33948106, -0.42421296, -0.42421296,\n",
       "         -0.42421296,  0.70859987,  2.7960303 ,  2.7960303 ,\n",
       "          1.1286315 , -0.42421296, -0.42421296, -0.42421296,\n",
       "         -0.42421296, -0.42421296, -0.42421296, -0.42421296],\n",
       "        [-0.42421296, -0.42421296, -0.42421296, -0.42421296,\n",
       "         -0.42421296, -0.42421296, -0.42421296, -0.42421296,\n",
       "         -0.42421296, -0.42421296, -0.25874594,  0.40312228,\n",
       "         -0.34784356, -0.42421296, -0.42421296, -0.42421296,\n",
       "         -0.42421296,  1.9814233 ,  2.7960303 ,  2.7451172 ,\n",
       "          0.9758927 , -0.42421296, -0.42421296, -0.42421296,\n",
       "         -0.42421296, -0.42421296, -0.42421296, -0.42421296],\n",
       "        [-0.42421296, -0.42421296, -0.42421296, -0.42421296,\n",
       "         -0.42421296, -0.42421296, -0.42421296, -0.42421296,\n",
       "         -0.42421296, -0.42421296, -0.42421296, -0.42421296,\n",
       "         -0.42421296, -0.42421296, -0.42421296, -0.42421296,\n",
       "         -0.42421296,  1.9814233 ,  2.7960303 ,  2.2741728 ,\n",
       "         -0.42421296, -0.42421296, -0.42421296, -0.42421296,\n",
       "         -0.42421296, -0.42421296, -0.42421296, -0.42421296],\n",
       "        [-0.42421296, -0.42421296, -0.42421296, -0.42421296,\n",
       "         -0.42421296, -0.42421296, -0.42421296, -0.42421296,\n",
       "         -0.42421296, -0.42421296, -0.42421296, -0.42421296,\n",
       "         -0.42421296, -0.42421296, -0.42421296, -0.42421296,\n",
       "          0.60677403,  2.6432915 ,  2.7960303 ,  0.58131754,\n",
       "         -0.42421296, -0.42421296, -0.42421296, -0.42421296,\n",
       "         -0.42421296, -0.42421296, -0.42421296, -0.42421296],\n",
       "        [-0.42421296, -0.42421296, -0.42421296, -0.42421296,\n",
       "         -0.42421296, -0.42421296, -0.42421296, -0.42421296,\n",
       "         -0.42421296, -0.42421296, -0.42421296, -0.42421296,\n",
       "         -0.42421296, -0.42421296, -0.42421296, -0.42421296,\n",
       "          0.8358821 ,  2.7960303 ,  2.7960303 ,  0.18674228,\n",
       "         -0.42421296, -0.42421296, -0.42421296, -0.42421296,\n",
       "         -0.42421296, -0.42421296, -0.42421296, -0.42421296],\n",
       "        [-0.42421296, -0.42421296, -0.42421296, -0.42421296,\n",
       "         -0.42421296, -0.42421296, -0.42421296, -0.42421296,\n",
       "         -0.42421296, -0.42421296, -0.42421296, -0.42421296,\n",
       "         -0.42421296, -0.42421296, -0.42421296, -0.3223871 ,\n",
       "          2.5541937 ,  2.7960303 ,  2.7960303 ,  0.18674228,\n",
       "         -0.42421296, -0.42421296, -0.42421296, -0.42421296,\n",
       "         -0.42421296, -0.42421296, -0.42421296, -0.42421296],\n",
       "        [-0.42421296, -0.42421296, -0.42421296, -0.42421296,\n",
       "         -0.42421296, -0.42421296, -0.42421296, -0.42421296,\n",
       "         -0.42421296, -0.42421296, -0.42421296, -0.42421296,\n",
       "         -0.42421296, -0.42421296, -0.42421296, -0.30965886,\n",
       "          2.7960303 ,  2.7960303 ,  2.7960303 ,  0.18674228,\n",
       "         -0.42421296, -0.42421296, -0.42421296, -0.42421296,\n",
       "         -0.42421296, -0.42421296, -0.42421296, -0.42421296],\n",
       "        [-0.42421296, -0.42421296, -0.42421296, -0.42421296,\n",
       "         -0.42421296, -0.42421296, -0.42421296, -0.42421296,\n",
       "         -0.42421296, -0.42421296, -0.42421296, -0.42421296,\n",
       "         -0.42421296, -0.42421296, -0.42421296, -0.41148472,\n",
       "          0.95043623,  2.7960303 ,  2.7960303 ,  2.6432915 ,\n",
       "          2.6051068 ,  1.9177822 , -0.42421296, -0.42421296,\n",
       "         -0.42421296, -0.42421296, -0.42421296, -0.42421296],\n",
       "        [-0.42421296, -0.42421296, -0.42421296, -0.42421296,\n",
       "         -0.42421296, -0.42421296, -0.42421296, -0.42421296,\n",
       "         -0.42421296, -0.42421296, -0.42421296, -0.42421296,\n",
       "         -0.42421296, -0.42421296, -0.42421296, -0.42421296,\n",
       "          0.02127524,  2.2614443 ,  2.7960303 ,  2.7960303 ,\n",
       "          2.7960303 ,  0.70859987, -0.42421296, -0.42421296,\n",
       "         -0.42421296, -0.42421296, -0.42421296, -0.42421296],\n",
       "        [-0.42421296, -0.42421296, -0.42421296, -0.42421296,\n",
       "         -0.42421296, -0.42421296, -0.42421296, -0.42421296,\n",
       "         -0.42421296, -0.42421296, -0.42421296, -0.42421296,\n",
       "         -0.42421296, -0.42421296, -0.42421296, -0.42421296,\n",
       "         -0.42421296, -0.42421296, -0.42421296, -0.42421296,\n",
       "         -0.42421296, -0.42421296, -0.42421296, -0.42421296,\n",
       "         -0.42421296, -0.42421296, -0.42421296, -0.42421296],\n",
       "        [-0.42421296, -0.42421296, -0.42421296, -0.42421296,\n",
       "         -0.42421296, -0.42421296, -0.42421296, -0.42421296,\n",
       "         -0.42421296, -0.42421296, -0.42421296, -0.42421296,\n",
       "         -0.42421296, -0.42421296, -0.42421296, -0.42421296,\n",
       "         -0.42421296, -0.42421296, -0.42421296, -0.42421296,\n",
       "         -0.42421296, -0.42421296, -0.42421296, -0.42421296,\n",
       "         -0.42421296, -0.42421296, -0.42421296, -0.42421296],\n",
       "        [-0.42421296, -0.42421296, -0.42421296, -0.42421296,\n",
       "         -0.42421296, -0.42421296, -0.42421296, -0.42421296,\n",
       "         -0.42421296, -0.42421296, -0.42421296, -0.42421296,\n",
       "         -0.42421296, -0.42421296, -0.42421296, -0.42421296,\n",
       "         -0.42421296, -0.42421296, -0.42421296, -0.42421296,\n",
       "         -0.42421296, -0.42421296, -0.42421296, -0.42421296,\n",
       "         -0.42421296, -0.42421296, -0.42421296, -0.42421296],\n",
       "        [-0.42421296, -0.42421296, -0.42421296, -0.42421296,\n",
       "         -0.42421296, -0.42421296, -0.42421296, -0.42421296,\n",
       "         -0.42421296, -0.42421296, -0.42421296, -0.42421296,\n",
       "         -0.42421296, -0.42421296, -0.42421296, -0.42421296,\n",
       "         -0.42421296, -0.42421296, -0.42421296, -0.42421296,\n",
       "         -0.42421296, -0.42421296, -0.42421296, -0.42421296,\n",
       "         -0.42421296, -0.42421296, -0.42421296, -0.42421296]]],\n",
       "      dtype=float32)"
      ]
     },
     "execution_count": 5,
     "metadata": {},
     "output_type": "execute_result"
    }
   ],
   "source": [
    "trainloaders[0].dataset[\"img\"][0].numpy()\n"
   ]
  },
  {
   "cell_type": "code",
   "execution_count": 61,
   "metadata": {},
   "outputs": [
    {
     "data": {
      "text/plain": [
       "MemoryMappedTable\n",
       "img: struct<bytes: binary, path: string>\n",
       "  child 0, bytes: binary\n",
       "  child 1, path: string\n",
       "label: int64\n",
       "----\n",
       "img: [\n",
       "  -- is_valid: all not null\n",
       "  -- child 0 type: binary\n",
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n",
       "  -- child 1 type: string\n",
       "[null,null,null,null,null,...,null,null,null,null,null],\n",
       "  -- is_valid: all not null\n",
       "  -- child 0 type: binary\n",
       "[89504E470D0A1A0A0000000D494844520000001C0000001C080000000057668048000000F649444154789C636018DC4065D2BFFFBFE3D9B0493127BEFAF7EFC5BF7FCA58E4227BFEFD5BE7AC78E2DF3E4CB99CBFFF5E1B333230F0FCFB6B812EC773E3DF177306060606B6ABFF2C21424C70495E35860927191818187E5D860921244518BECE43330C2119CCB0EA1E2E49E11486331016BB0D86A4BA14C33B088B59EAC7373423ACFEFDE384B0B8FE5DC2B0130EE2193AD185586F43754A3CFB2781AEF3F75F28C346E2EF7F0CD36EFC536160606010BBF03B0ED3AAC67F150C0C0CCC3DFF9E62CA3104FFBB27C8C010FDEF8D291649A1D7FFDA44CBDFFEABC122C7C060FAF3DFAB3FFFD6306395642879FBEF5FAB0876396A020003D3513253D85C350000000049454E44AE426082,89504E470D0A1A0A0000000D494844520000001C0000001C080000000057668048000000F949444154789CD5D0AD4B830110C7F1DF2632E5411F108C96A5B124829B6210455664616938B08B4DEC2218C560B1ED0F50EBC4A4450C26DFA66C431106BA368519A63EFBCEF094E781E78ACD8383830F77C79DF45F233692F08BF8EAE7F550D8DC329792A4B11DE83A211B7E82B735490B35A011EE3C84D656CAC9550028052975FA43B390ABBC02C0E640C01237D0C74FE0DCB7988FD35792D4EF351EAAE9A23A53CFC1A9077092CF4F4ADA86DE6CF88CD1F2C5842469B90BBBC61FE6EA70E4469B5B8747C30637A09D8DB6F80ABC178C857BF0B16ED8A287B76FD8D237DEB161992FB8336CE605CE9C689B6FC1BD61C926DC8E1B43FF12BF549075E8D6C288440000000049454E44AE426082,89504E470D0A1A0A0000000D494844520000001C0000001C0800000000576680480000005849444154789C63601870B0662F1EC95F5391794CF8CC1908495410FDCF1CB74E564605DC926FFFDBE196DCFC877807A14BB2E151BBFD271E9DF799F5F118CB6480CF419F71DBF9F0276E39865F07F03888E12A1E9D740100385710F9180498380000000049454E44AE426082,89504E470D0A1A0A0000000D494844520000001C0000001C0800000000576680480000008B49444154789C6360181C40E16A3784C1842927BA545314A7C603FF7E7AE292CBFCF7B70D979CF4CB7FFB711BFAF7A5140E29B685FFFFD9E3D257F1F75F032E398557FF7673E390E3DEF5EFB2022E8DC9787C28FA05B70FD9B6FDC7EDC36DB87DC810F2FF5F262E39EEA3B8838D71DABF273823CAFEEFDF605C720257FFADC625C7B0F0EF659C2EA52F00006FE93319562D82240000000049454E44AE426082,89504E470D0A1A0A0000000D494844520000001C0000001C0800000000576680480000008449444154789CCD91C10DC020080049D331EA1EBA47E320EEE122A473E81EC6CE411FB62951E4D547F9A0B91C1000F87B14F7BE978E7963E610F9E781C1B7EC385CEF6C6D93B23808A66652107A1E2EB6B2555223218027F272614A5866109028390E570607A75F02C0AE41D5D422B1B30C66666719E0C9D63BC00A9B3690620ABBF83A2E791D228100EA69580000000049454E44AE426082,...,89504E470D0A1A0A0000000D494844520000001C0000001C0800000000576680480000010749444154789CCD90BD4A035114843F4D0CB216228ABE404C0A7FBB84ED444C2182563E4140B053C1DA42F009ACC4CAC2461462651FD6CA608AA4313E40702124212084418B5DAFF7BAD88AD3CD7C733887037FAF9144B2344B3DFCA55D6848D7E9449CF63CCFABB424E9E227CB9CC9A89177D9CEB92C3D662D34B9D596A36DEBDAA010B7EEDF21B702A4BE2783A85FDD9B0096EB920C1A3F1948EA1F64E7E2711BAE4BD2DDFE975DA8D9F041D2D594B1878AE128400978EA24BE1241573345A062EC87A4DAA5BF01502AAE4AD29A812F9234ECF69AC761D8EF76A4DED19881F381FB1E55ED35F9A68D6E36FD288EDF97F14F99CE41EB0D5ECB431C08B0B80BB7CFC9EBFF913E01B26BA3800D194A1A0000000049454E44AE426082,89504E470D0A1A0A0000000D494844520000001C0000001C0800000000576680480000008A49444154789CCD91C10DC340080447E9C375446E8442AE0FA7902B04296D5C239387AD7C0CBF3CC20B315A582DF0EFB51F4B5789C652E7D86F923962E8BC0160D39C5A2148778EB5D5464C6874A0C71E0D634B5DA59B1347EA6CAE5EF29E32EC1C0384D943F4DB3E6EF04514F09ABD7916FBAE3FADD2EF398CFA992630B40C31541B06A1D9A7FBBBFA007BB8485A2E4975A70000000049454E44AE426082,89504E470D0A1A0A0000000D494844520000001C0000001C080000000057668048000000FA49444154789C6360186010BCFFDFFF7FFFB708619162C9F9F6F7EFDFBF7FFF1EDA228E2159FE170E14D0E512BF40249E232459607282919C0C0C0C37D630AC0D6660F888AA4F74DBDFBF7FFFFE55C4EAD06C88997DBA7824FFBEED4112648250DC5150BE005FE91C39348D8CF9305FFCFAFDF7AE064C144A2BEB41E87C533626866BCEAFB03A8C81A1E43896408003B99B7F67E1946438FBF7AE010303032284842418EEFE84308539183E3E41918C9CC430F3EDFD0F866B4218CC3518BEBE413689A5E7EFDFBF7FBF7EFCFBF2EFDFBF7FFF1E46B146F02F0A484191640C7D8B905AC6CF84E644B7C8C77FFFFEFDFB776F64A4206E8FD01E0000A2D5939FE2DF1F9E0000000049454E44AE426082,89504E470D0A1A0A0000000D494844520000001C0000001C080000000057668048000000DF49444154789C63601860A07BEAFF25311C72D13FFEFDFB7711BB9CE0A57F87EB3FFFADC52A19FAEF9F3C43EEBFAB2CD824C3FE5D606710FAF74F002EC28490FCFBE7C34F0606068620ACE61A2B3130B09DFD97041740B6E02C0303C3AF57480248C662027449013B860F5815724A323008FDFBC7894D8E6DD38726068B7F7758B13928D08721FF3F0FC386DFD874AEFBF7EFDFBF7F7FACB0C929FEFE37FFDEBF7F7F1299B14826FF7BC767FAEFDFBF7F51D8EC6438F12998E1C57486ED58745AFDFBD0F7E3BD21361B191898E7FEFBF7DC0DBB1C0383D49E97FAB8E4E80700B3554EFC17891DC80000000049454E44AE426082,89504E470D0A1A0A0000000D494844520000001C0000001C0800000000576680480000011349444154789CC5904F2B446114879FB9496A326562358585110B499984CB8A8D8FC146D9CE066BB193050BF9061AA584C88E9264C3426261A9260BCA64F13BD7E2BDE3FEE9AE399BDF7BCE73CE79CF39F0EFE6EF98D9DA58363449D25BE87909B6E1A4B0E2B42586DA4B33EED13A9A8653FDC34BCD77F7D07DBCE1D6DEA324B93FA5EBBE182BD45DB009351E0D543EEBC89ADD03E8DDAD642EE60194A6436FD1F72FD319BE9999DDAE0370FC1498D9C42F9C94A4A3CED05B9074D1130D0450ABC77A9DBC262B3F66078A00E555499F15885F287FCAFE39B099071EDE939592A420D46AB4CADDE0A1B9B4C0C97723B1CD41FC7C5FCB2E980B61719E6A17E402B8A935B69310186983AB80B9E797F491FED27E00B0698794188CB73B0000000049454E44AE426082]\n",
       "  -- child 1 type: string\n",
       "[null,null,null,null,null,...,null,null,null,null,null],\n",
       "...,\n",
       "  -- is_valid: all not null\n",
       "  -- child 0 type: binary\n",
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n",
       "  -- child 1 type: string\n",
       "[null,null,null,null,null,...,null,null,null,null,null],\n",
       "  -- is_valid: all not null\n",
       "  -- child 0 type: binary\n",
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n",
       "  -- child 1 type: string\n",
       "[null,null,null,null,null,...,null,null,null,null,null]]\n",
       "label: [[5,0,4,1,9,...,7,6,0,3,6],[0,7,1,1,4,...,0,5,5,2,0],...,[2,3,0,4,9,...,1,8,6,6,4],[6,3,5,7,2,...,8,3,5,6,8]]"
      ]
     },
     "execution_count": 61,
     "metadata": {},
     "output_type": "execute_result"
    }
   ],
   "source": [
    "trainloader.dataset.data"
   ]
  },
  {
   "cell_type": "code",
   "execution_count": 74,
   "metadata": {},
   "outputs": [
    {
     "name": "stdout",
     "output_type": "stream",
     "text": [
      "{'img': tensor([[[[-0.4242, -0.4242, -0.4242,  ..., -0.4242, -0.4242, -0.4242],\n",
      "          [-0.4242, -0.4242, -0.4242,  ..., -0.4242, -0.4242, -0.4242],\n",
      "          [-0.4242, -0.4242, -0.4242,  ..., -0.4242, -0.4242, -0.4242],\n",
      "          ...,\n",
      "          [-0.4242, -0.4242, -0.4242,  ..., -0.4242, -0.4242, -0.4242],\n",
      "          [-0.4242, -0.4242, -0.4242,  ..., -0.4242, -0.4242, -0.4242],\n",
      "          [-0.4242, -0.4242, -0.4242,  ..., -0.4242, -0.4242, -0.4242]]],\n",
      "\n",
      "\n",
      "        [[[-0.4242, -0.4242, -0.4242,  ..., -0.4242, -0.4242, -0.4242],\n",
      "          [-0.4242, -0.4242, -0.4242,  ..., -0.4242, -0.4242, -0.4242],\n",
      "          [-0.4242, -0.4242, -0.4242,  ..., -0.4242, -0.4242, -0.4242],\n",
      "          ...,\n",
      "          [-0.4242, -0.4242, -0.4242,  ..., -0.4242, -0.4242, -0.4242],\n",
      "          [-0.4242, -0.4242, -0.4242,  ..., -0.4242, -0.4242, -0.4242],\n",
      "          [-0.4242, -0.4242, -0.4242,  ..., -0.4242, -0.4242, -0.4242]]],\n",
      "\n",
      "\n",
      "        [[[-0.4242, -0.4242, -0.4242,  ..., -0.4242, -0.4242, -0.4242],\n",
      "          [-0.4242, -0.4242, -0.4242,  ..., -0.4242, -0.4242, -0.4242],\n",
      "          [-0.4242, -0.4242, -0.4242,  ..., -0.4242, -0.4242, -0.4242],\n",
      "          ...,\n",
      "          [-0.4242, -0.4242, -0.4242,  ..., -0.4242, -0.4242, -0.4242],\n",
      "          [-0.4242, -0.4242, -0.4242,  ..., -0.4242, -0.4242, -0.4242],\n",
      "          [-0.4242, -0.4242, -0.4242,  ..., -0.4242, -0.4242, -0.4242]]],\n",
      "\n",
      "\n",
      "        ...,\n",
      "\n",
      "\n",
      "        [[[-0.4242, -0.4242, -0.4242,  ..., -0.4242, -0.4242, -0.4242],\n",
      "          [-0.4242, -0.4242, -0.4242,  ..., -0.4242, -0.4242, -0.4242],\n",
      "          [-0.4242, -0.4242, -0.4242,  ..., -0.4242, -0.4242, -0.4242],\n",
      "          ...,\n",
      "          [-0.4242, -0.4242, -0.4242,  ..., -0.4242, -0.4242, -0.4242],\n",
      "          [-0.4242, -0.4242, -0.4242,  ..., -0.4242, -0.4242, -0.4242],\n",
      "          [-0.4242, -0.4242, -0.4242,  ..., -0.4242, -0.4242, -0.4242]]],\n",
      "\n",
      "\n",
      "        [[[-0.4242, -0.4242, -0.4242,  ..., -0.4242, -0.4242, -0.4242],\n",
      "          [-0.4242, -0.4242, -0.4242,  ..., -0.4242, -0.4242, -0.4242],\n",
      "          [-0.4242, -0.4242, -0.4242,  ..., -0.4242, -0.4242, -0.4242],\n",
      "          ...,\n",
      "          [-0.4242, -0.4242, -0.4242,  ..., -0.4242, -0.4242, -0.4242],\n",
      "          [-0.4242, -0.4242, -0.4242,  ..., -0.4242, -0.4242, -0.4242],\n",
      "          [-0.4242, -0.4242, -0.4242,  ..., -0.4242, -0.4242, -0.4242]]],\n",
      "\n",
      "\n",
      "        [[[-0.4242, -0.4242, -0.4242,  ..., -0.4242, -0.4242, -0.4242],\n",
      "          [-0.4242, -0.4242, -0.4242,  ..., -0.4242, -0.4242, -0.4242],\n",
      "          [-0.4242, -0.4242, -0.4242,  ..., -0.4242, -0.4242, -0.4242],\n",
      "          ...,\n",
      "          [-0.4242, -0.4242, -0.4242,  ..., -0.4242, -0.4242, -0.4242],\n",
      "          [-0.4242, -0.4242, -0.4242,  ..., -0.4242, -0.4242, -0.4242],\n",
      "          [-0.4242, -0.4242, -0.4242,  ..., -0.4242, -0.4242, -0.4242]]]]), 'label': tensor([7, 0, 8, 9, 1, 9, 0, 8, 7, 9, 8, 4, 4, 8, 3, 6, 7, 3, 3, 4, 7, 1, 5, 8,\n",
      "        9, 1, 4, 6, 6, 2, 8, 2])}\n"
     ]
    }
   ],
   "source": [
    "for x in trainloader:\n",
    "    print(x)\n",
    "    break"
   ]
  },
  {
   "cell_type": "code",
   "execution_count": 76,
   "metadata": {},
   "outputs": [
    {
     "data": {
      "text/plain": [
       "Dataset({\n",
       "    features: ['image', 'label'],\n",
       "    num_rows: 6000\n",
       "})"
      ]
     },
     "execution_count": 76,
     "metadata": {},
     "output_type": "execute_result"
    }
   ],
   "source": [
    "part_torch"
   ]
  },
  {
   "cell_type": "code",
   "execution_count": 77,
   "metadata": {},
   "outputs": [],
   "source": [
    "dataloader = DataLoader(part_torch, batch_size=64)"
   ]
  },
  {
   "cell_type": "code",
   "execution_count": 104,
   "metadata": {},
   "outputs": [
    {
     "data": {
      "text/plain": [
       "6000"
      ]
     },
     "execution_count": 104,
     "metadata": {},
     "output_type": "execute_result"
    }
   ],
   "source": [
    "dataloader.data"
   ]
  },
  {
   "cell_type": "code",
   "execution_count": 9,
   "metadata": {},
   "outputs": [],
   "source": [
    "from flwr.client import NumPyClient, ClientApp\n",
    "from flwr.common import Context\n",
    "\n",
    "from clustering_project.task import (\n",
    "    Net,\n",
    "    DEVICE,\n",
    "    load_data,\n",
    "    get_weights,\n",
    "    set_weights,\n",
    "    train,\n",
    "    test,\n",
    ")\n",
    "\n",
    "\n",
    "# Define Flower Client and client_fn\n",
    "class FlowerClient(NumPyClient):\n",
    "    def __init__(self, net, trainloader, valloader, local_epochs):\n",
    "        self.net = net\n",
    "        self.trainloader = trainloader\n",
    "        self.valloader = valloader\n",
    "        self.local_epochs = local_epochs\n",
    "\n",
    "    def fit(self, parameters, config):\n",
    "        set_weights(self.net, parameters)\n",
    "        results = train(\n",
    "            self.net,\n",
    "            self.trainloader,\n",
    "            self.valloader,\n",
    "            self.local_epochs,\n",
    "            DEVICE,\n",
    "        )\n",
    "        return get_weights(self.net), len(self.trainloader.dataset), results\n",
    "\n",
    "    def evaluate(self, parameters, config):\n",
    "        set_weights(self.net, parameters)\n",
    "        loss, accuracy = test(self.net, self.valloader)\n",
    "        return loss, len(self.valloader.dataset), {\"accuracy\": accuracy}"
   ]
  },
  {
   "cell_type": "code",
   "execution_count": 88,
   "metadata": {},
   "outputs": [],
   "source": [
    "client = FlowerClient(net = Net, trainloader=trainloader, valloader=testloader,local_epochs=2)"
   ]
  },
  {
   "cell_type": "code",
   "execution_count": 93,
   "metadata": {},
   "outputs": [],
   "source": [
    "DEVICE = torch.device(\"cuda:0\" if torch.cuda.is_available() else \"cpu\")"
   ]
  },
  {
   "cell_type": "code",
   "execution_count": 38,
   "metadata": {},
   "outputs": [
    {
     "ename": "TypeError",
     "evalue": "list indices must be integers or slices, not str",
     "output_type": "error",
     "traceback": [
      "\u001b[0;31m---------------------------------------------------------------------------\u001b[0m",
      "\u001b[0;31mTypeError\u001b[0m                                 Traceback (most recent call last)",
      "Cell \u001b[0;32mIn[38], line 2\u001b[0m\n\u001b[1;32m      1\u001b[0m \u001b[38;5;28;01mfor\u001b[39;00m batch \u001b[38;5;129;01min\u001b[39;00m trainloader:\n\u001b[0;32m----> 2\u001b[0m     images \u001b[38;5;241m=\u001b[39m \u001b[43mbatch\u001b[49m\u001b[43m[\u001b[49m\u001b[38;5;124;43m\"\u001b[39;49m\u001b[38;5;124;43mimage\u001b[39;49m\u001b[38;5;124;43m\"\u001b[39;49m\u001b[43m]\u001b[49m\n\u001b[1;32m      3\u001b[0m     labels \u001b[38;5;241m=\u001b[39m batch[\u001b[38;5;124m\"\u001b[39m\u001b[38;5;124mlabel\u001b[39m\u001b[38;5;124m\"\u001b[39m]\n\u001b[1;32m      4\u001b[0m     \u001b[38;5;66;03m# optimizer.zero_grad()\u001b[39;00m\n\u001b[1;32m      5\u001b[0m     \u001b[38;5;66;03m# criterion(net(images.to(DEVICE)), labels.to(DEVICE)).backward()\u001b[39;00m\n\u001b[1;32m      6\u001b[0m     \u001b[38;5;66;03m# optimizer.step()\u001b[39;00m\n",
      "\u001b[0;31mTypeError\u001b[0m: list indices must be integers or slices, not str"
     ]
    }
   ],
   "source": [
    "for batch in trainloader:\n",
    "    images = batch[\"image\"]\n",
    "    labels = batch[\"label\"]\n",
    "    # optimizer.zero_grad()\n",
    "    # criterion(net(images.to(DEVICE)), labels.to(DEVICE)).backward()\n",
    "    # optimizer.step()"
   ]
  },
  {
   "cell_type": "code",
   "execution_count": 10,
   "metadata": {},
   "outputs": [
    {
     "ename": "TypeError",
     "evalue": "parameters() missing 1 required positional argument: 'self'",
     "output_type": "error",
     "traceback": [
      "\u001b[0;31m---------------------------------------------------------------------------\u001b[0m",
      "\u001b[0;31mTypeError\u001b[0m                                 Traceback (most recent call last)",
      "Cell \u001b[0;32mIn[10], line 1\u001b[0m\n\u001b[0;32m----> 1\u001b[0m \u001b[43mtrain\u001b[49m\u001b[43m(\u001b[49m\u001b[43mNet\u001b[49m\u001b[43m,\u001b[49m\u001b[43m \u001b[49m\u001b[43mtrainloader\u001b[49m\u001b[43m,\u001b[49m\u001b[43m \u001b[49m\u001b[43mtestloader\u001b[49m\u001b[43m,\u001b[49m\u001b[43m \u001b[49m\u001b[38;5;241;43m2\u001b[39;49m\u001b[43m)\u001b[49m\n",
      "File \u001b[0;32m~/Downloads/clustering_project/task.py:73\u001b[0m, in \u001b[0;36mtrain\u001b[0;34m(net, trainloader, valloader, epochs)\u001b[0m\n\u001b[1;32m     71\u001b[0m \u001b[38;5;66;03m#net.to(device)  # move model to GPU if available\u001b[39;00m\n\u001b[1;32m     72\u001b[0m criterion \u001b[38;5;241m=\u001b[39m torch\u001b[38;5;241m.\u001b[39mnn\u001b[38;5;241m.\u001b[39mCrossEntropyLoss()\u001b[38;5;66;03m#.to(device)\u001b[39;00m\n\u001b[0;32m---> 73\u001b[0m optimizer \u001b[38;5;241m=\u001b[39m torch\u001b[38;5;241m.\u001b[39moptim\u001b[38;5;241m.\u001b[39mSGD(\u001b[43mnet\u001b[49m\u001b[38;5;241;43m.\u001b[39;49m\u001b[43mparameters\u001b[49m\u001b[43m(\u001b[49m\u001b[43m)\u001b[49m, lr\u001b[38;5;241m=\u001b[39m\u001b[38;5;241m0.001\u001b[39m, momentum\u001b[38;5;241m=\u001b[39m\u001b[38;5;241m0.9\u001b[39m)\n\u001b[1;32m     74\u001b[0m net\u001b[38;5;241m.\u001b[39mtrain()\n\u001b[1;32m     75\u001b[0m \u001b[38;5;28;01mfor\u001b[39;00m _ \u001b[38;5;129;01min\u001b[39;00m \u001b[38;5;28mrange\u001b[39m(epochs):\n",
      "\u001b[0;31mTypeError\u001b[0m: parameters() missing 1 required positional argument: 'self'"
     ]
    }
   ],
   "source": [
    "train(Net, trainloader, testloader, 2)"
   ]
  },
  {
   "cell_type": "code",
   "execution_count": 100,
   "metadata": {},
   "outputs": [],
   "source": [
    "if isinstance(DEVICE, str):\n",
    "    device = torch.device(DEVICE)\n",
    "    \n",
    "    # Step 2: Move model to the specified device\n",
    "    net.to(device)"
   ]
  },
  {
   "cell_type": "code",
   "execution_count": 101,
   "metadata": {},
   "outputs": [],
   "source": [
    "device = torch.device(DEVICE)"
   ]
  },
  {
   "cell_type": "code",
   "execution_count": 102,
   "metadata": {},
   "outputs": [
    {
     "data": {
      "text/plain": [
       "device(type='cpu')"
      ]
     },
     "execution_count": 102,
     "metadata": {},
     "output_type": "execute_result"
    }
   ],
   "source": [
    "device"
   ]
  },
  {
   "cell_type": "code",
   "execution_count": null,
   "metadata": {},
   "outputs": [],
   "source": []
  }
 ],
 "metadata": {
  "kernelspec": {
   "display_name": "Python 3",
   "language": "python",
   "name": "python3"
  },
  "language_info": {
   "codemirror_mode": {
    "name": "ipython",
    "version": 3
   },
   "file_extension": ".py",
   "mimetype": "text/x-python",
   "name": "python",
   "nbconvert_exporter": "python",
   "pygments_lexer": "ipython3",
   "version": "3.9.6"
  }
 },
 "nbformat": 4,
 "nbformat_minor": 2
}
